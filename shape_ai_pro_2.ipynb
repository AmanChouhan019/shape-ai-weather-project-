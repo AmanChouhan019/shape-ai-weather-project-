{
  "nbformat": 4,
  "nbformat_minor": 0,
  "metadata": {
    "colab": {
      "name": "shape ai pro-2",
      "provenance": [],
      "collapsed_sections": [],
      "authorship_tag": "ABX9TyOmCgscOexk0/1EphWMuD5L",
      "include_colab_link": true
    },
    "kernelspec": {
      "name": "python3",
      "display_name": "Python 3"
    },
    "language_info": {
      "name": "python"
    }
  },
  "cells": [
    {
      "cell_type": "markdown",
      "metadata": {
        "id": "view-in-github",
        "colab_type": "text"
      },
      "source": [
        "<a href=\"https://colab.research.google.com/github/AmanChouhan019/shape-ai-weather-project-/blob/main/shape_ai_pro_2.ipynb\" target=\"_parent\"><img src=\"https://colab.research.google.com/assets/colab-badge.svg\" alt=\"Open In Colab\"/></a>"
      ]
    },
    {
      "cell_type": "code",
      "metadata": {
        "cellView": "form",
        "id": "llTEASO8ekrv"
      },
      "source": [
        "#@title MD5 generater\n",
        "\n"
      ],
      "execution_count": 2,
      "outputs": []
    },
    {
      "cell_type": "code",
      "metadata": {
        "colab": {
          "base_uri": "https://localhost:8080/"
        },
        "id": "VwAUqaBESJU_",
        "outputId": "7b1e2119-b283-4577-a268-1f6aebf1a281"
      },
      "source": [
        "import hashlib\n",
        "a=input(\"Enter The String :\")\n",
        "\n",
        "result = hashlib.md5(a.encode()) \n",
        "\n",
        "print(\"The hexadecimal equivalent of hash is : \", end =\"\")\n",
        "print(result.hexdigest())\n",
        "\n",
        "print(\"The byte equivalent of hash is : \", end =\"\")\n",
        "print(result.digest())\n",
        "\n",
        "\n",
        "\n"
      ],
      "execution_count": 2,
      "outputs": [
        {
          "output_type": "stream",
          "text": [
            "Enter The String :Aman\n",
            "The hexadecimal equivalent of hash is : 95a6080a7a999364880885c180d92bb5\n",
            "The byte equivalent of hash is : b'\\x95\\xa6\\x08\\nz\\x99\\x93d\\x88\\x08\\x85\\xc1\\x80\\xd9+\\xb5'\n"
          ],
          "name": "stdout"
        }
      ]
    },
    {
      "cell_type": "code",
      "metadata": {
        "cellView": "form",
        "id": "neZJlPHRfQvU"
      },
      "source": [
        "#@title Different Hashlib Algorithm\n",
        "\n"
      ],
      "execution_count": null,
      "outputs": []
    },
    {
      "cell_type": "code",
      "metadata": {
        "colab": {
          "base_uri": "https://localhost:8080/"
        },
        "id": "r4kzXPABheRF",
        "outputId": "5a21b5a7-1b7f-49a0-b849-04fb7f2a0f9b"
      },
      "source": [
        "import hashlib\n",
        "a=input(\"Enter a string:\")\n",
        "\n",
        "\n",
        "print(\"USING SHA 3\")\n",
        "print(\"---------------------\")\n",
        "result = hashlib.sha3_256(a.encode())#output=32 bits\n",
        "print(result.hexdigest())\n",
        "\n",
        "result = hashlib.sha3_512(a.encode())#output=32 bits\n",
        "print(result.hexdigest())\n",
        "print(\"________________________________________________________________________________________________________________________________________________\")\n",
        "\n",
        "\n",
        "print(\"USING SHA 2\")\n",
        "print(\"---------------------\")\n",
        "\n",
        "\n",
        "result = hashlib.sha256(a.encode())#output=32 bits\n",
        "print(result.hexdigest())\n",
        "\n",
        "result = hashlib.sha512(a.encode())#output=64 bits\n",
        "print(result.hexdigest())\n",
        "\n",
        "\n",
        "\n",
        "print(\"________________________________________________________________________________________________________________________________________________\")\n",
        "print(\"USING SHA 1\")\n",
        "print(\"---------------------\")\n",
        " \n",
        "\n",
        "result = hashlib.sha3_256(a.encode())#output=32 bits\n",
        "print(result.hexdigest())\n",
        "\n",
        "result = hashlib.sha1(a.encode())#output=32 bits\n",
        "print(result.hexdigest())\n",
        "\n",
        "\n",
        "\n",
        "print(\"________________________________________________________________________________________________________________________________________________\")\n",
        "\n",
        "print(\"USING BLAKE \")\n",
        "print(\"---------------------\")\n",
        "\n",
        "\n",
        "result = hashlib.blake2s(a.encode())#output=64 bits\n",
        "print(result.hexdigest())\n",
        "\n",
        "result = hashlib.blake2b(a.encode())#output=64 bits\n",
        "print(result.hexdigest())\n",
        "\n",
        "\n",
        "\n",
        "\n",
        "\n",
        "\n",
        "\n"
      ],
      "execution_count": 26,
      "outputs": [
        {
          "output_type": "stream",
          "text": [
            "Enter a string:Aman\n",
            "USING SHA 3\n",
            "---------------------\n",
            "1109c47e989918804eed8df2082b76f1a108e4745d66e9abb0d913fc3703a21a\n",
            "6b35cc044c6f74cea761a6eacf2d7abcec21dc5683fecc060881885f10bc98b3354c8c4be75fcf542488c4fd41656c5b7b50c8c11970aaa4dab1f0176d774279\n",
            "________________________________________________________________________________________________________________________________________________\n",
            "USING SHA 2\n",
            "---------------------\n",
            "ee286ba3370879a600b35ef67cf90c68d88e01e3fbf6181d50987cc6450d279c\n",
            "83f311d0bd0257b1d1ccb00b5cec76acb325420f01efd139ad2ec9f724d3147bcd095546a3f7bf4b5fc78aefbd240148929adaf513a10b88e0c7d3c8b924ae7f\n",
            "________________________________________________________________________________________________________________________________________________\n",
            "USING SHA 1\n",
            "---------------------\n",
            "1109c47e989918804eed8df2082b76f1a108e4745d66e9abb0d913fc3703a21a\n",
            "48d8a855f82538a0b127eb3b0adf3ac82e849840\n",
            "________________________________________________________________________________________________________________________________________________\n",
            "USING BLAKE \n",
            "---------------------\n",
            "04e3eca0c8393a193985584f364fa769c6d7b66e0aeeef8154a13017d6079f6a\n",
            "6e0c7aef91dfe44f4e0fe674e3a12dd82c6221d5895f2ba8a412d4c8e06b2b06cfcbf0e765ccf84ace4162c06708c66bd488feb87a1a96991548e76fea6c698d\n"
          ],
          "name": "stdout"
        }
      ]
    }
  ]
}